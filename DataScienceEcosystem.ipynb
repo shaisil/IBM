{
  "metadata": {
    "kernelspec": {
      "name": "python",
      "display_name": "Python (Pyodide)",
      "language": "python"
    },
    "language_info": {
      "codemirror_mode": {
        "name": "python",
        "version": 3
      },
      "file_extension": ".py",
      "mimetype": "text/x-python",
      "name": "python",
      "nbconvert_exporter": "python",
      "pygments_lexer": "ipython3",
      "version": "3.8"
    }
  },
  "nbformat_minor": 5,
  "nbformat": 4,
  "cells": [
    {
      "id": "5cfadfd8-5ae0-4779-9b55-ceb1c40d35ca",
      "cell_type": "markdown",
      "source": "## Data Science Tools and Ecosystem",
      "metadata": {}
    },
    {
      "id": "1b776264-7ffa-44fe-994e-29c8ab01ebb4",
      "cell_type": "markdown",
      "source": "In this notebook, Data Science Tools and Ecosystem are summarized.",
      "metadata": {}
    },
    {
      "id": "56a449a9-5188-4e25-9e1b-d2769375dae6",
      "cell_type": "markdown",
      "source": "Some of the popular languages that Data Scientists use are:\n1. Python\n2. SQL\n3. R\n4. Java",
      "metadata": {}
    },
    {
      "id": "58d41fe1-15e0-444d-85e3-9e07c4190daa",
      "cell_type": "markdown",
      "source": "Some of the popular languages that Data Scientists use are:\n1. Matplotlib\n2. PyPDF\n3. Pandas\n4. Plotly",
      "metadata": {}
    },
    {
      "id": "db05f1ae-6a0e-4979-ba46-14fa90694c3e",
      "cell_type": "markdown",
      "source": "| Data Science Tools            |\n|-------------------------------|\n| Jupyter Notebook              |\n| RStudio                       |\n| Visual Studio Code (VS Code) |",
      "metadata": {}
    },
    {
      "id": "3633eed8-2d96-41aa-8b5d-481a1dacff01",
      "cell_type": "markdown",
      "source": "Below are a few examples of evaluating arithmetic expressions in Python.\n# Addition\nprint(3 + 5)\n\n# Subtraction\nprint(10 - 4)\n\n# Multiplication\nprint(6 * 7)\n\n# Division\nprint(20 / 4)\n\n# Exponentiation\nprint(2 ** 3)\n\n# Modulo\nprint(10 % 3)",
      "metadata": {}
    },
    {
      "id": "2e6d33c7-5620-4644-b62e-25993075ed73",
      "cell_type": "code",
      "source": "# This is a simple arithmetic expression to multiply then add integers\n(3 * 4) + 5",
      "metadata": {
        "trusted": true
      },
      "outputs": [
        {
          "execution_count": 11,
          "output_type": "execute_result",
          "data": {
            "text/plain": "17"
          },
          "metadata": {}
        }
      ],
      "execution_count": 11
    },
    {
      "id": "f57637a2-6fd0-482f-8778-61e604867600",
      "cell_type": "code",
      "source": "# This will convert 200 minutes to hours by dividing by 60\n200 / 60",
      "metadata": {
        "trusted": true
      },
      "outputs": [
        {
          "execution_count": 12,
          "output_type": "execute_result",
          "data": {
            "text/plain": "3.3333333333333335"
          },
          "metadata": {}
        }
      ],
      "execution_count": 12
    },
    {
      "id": "ed721d34-f00f-4cea-a1c5-45c7ec82e356",
      "cell_type": "markdown",
      "source": "**Objectives:**\n\n- List popular languages for Data Science  \n- Understand the role of arithmetic expressions in Python  \n- Convert units such as minutes to hours using Python expressions  \n- Write and evaluate basic mathematical operations  \n- Use markdown cells to document and format notebook content  ",
      "metadata": {}
    },
    {
      "id": "fbe494c4-5246-4b46-9ac7-5115c2597499",
      "cell_type": "markdown",
      "source": "## Author\n\nShai Silbermann",
      "metadata": {}
    },
    {
      "id": "caaffddf-4d6a-42a3-9508-3ae348ee628c",
      "cell_type": "code",
      "source": "",
      "metadata": {
        "trusted": true
      },
      "outputs": [],
      "execution_count": null
    }
  ]
}